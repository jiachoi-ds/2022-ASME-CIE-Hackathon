{
 "cells": [
  {
   "cell_type": "code",
   "execution_count": 1,
   "id": "3e0d76a2",
   "metadata": {},
   "outputs": [],
   "source": [
    "import json\n",
    "import numpy as np \n",
    "import pandas as pd\n",
    "from glob import glob   \n",
    "import shutil\n",
    "import os\n",
    "import matplotlib.pyplot as plt\n",
    "import PIL.Image as pilimg\n",
    "import argparse\n",
    "import sys\n",
    "from tqdm import tqdm\n",
    "from decimal import Decimal\n",
    "import pickle"
   ]
  },
  {
   "cell_type": "code",
   "execution_count": 14,
   "id": "cbb29e9a",
   "metadata": {},
   "outputs": [],
   "source": [
    "tr=pd.read_pickle('feature-extractor-output/train_dataset.pickle')\n",
    "val=pd.read_pickle('feature-extractor-output/validation_dataset.pickle')"
   ]
  },
  {
   "cell_type": "code",
   "execution_count": 3,
   "id": "b784b82c",
   "metadata": {},
   "outputs": [],
   "source": [
    "non_img_features_col=list(tr.columns[1:21])\n",
    "img_features_col=list(tr.columns[21:])"
   ]
  },
  {
   "cell_type": "code",
   "execution_count": 6,
   "id": "066b48ac",
   "metadata": {},
   "outputs": [],
   "source": [
    "ts=pd.read_pickle('feature-extractor-output/test_dataset.pickle')"
   ]
  },
  {
   "cell_type": "markdown",
   "id": "3d63f5b4",
   "metadata": {},
   "source": [
    "# Normalization"
   ]
  },
  {
   "cell_type": "code",
   "execution_count": 7,
   "id": "6f12f672",
   "metadata": {},
   "outputs": [],
   "source": [
    "X_test=ts.iloc[:, 1:]\n",
    "col_features=list(X_test.columns)"
   ]
  },
  {
   "cell_type": "code",
   "execution_count": 8,
   "id": "21f30352",
   "metadata": {},
   "outputs": [],
   "source": [
    "from sklearn.preprocessing import StandardScaler\n",
    "std_scaler = StandardScaler()\n",
    "\n",
    "def Normalization(df):\n",
    "    col_features=list(df.columns)\n",
    "    fitted = std_scaler.fit(df)\n",
    "    features = std_scaler.transform(df)\n",
    "    features_normalized = pd.DataFrame(features, columns=col_features)\n",
    "    return features_normalized"
   ]
  },
  {
   "cell_type": "code",
   "execution_count": 10,
   "id": "b2a281ce",
   "metadata": {},
   "outputs": [],
   "source": [
    "X_test_scaled=Normalization(X_test)\n",
    "X_test_scaled=X_test_scaled.astype(float)"
   ]
  },
  {
   "cell_type": "code",
   "execution_count": 21,
   "id": "d59d6ca4",
   "metadata": {},
   "outputs": [],
   "source": [
    "X_test_scaled.set_index(ts.assembly_name).reset_index().to_excel('output/excel/raw_test_dt.xlsx',index=False)"
   ]
  },
  {
   "cell_type": "code",
   "execution_count": 15,
   "id": "454a658d",
   "metadata": {},
   "outputs": [
    {
     "data": {
      "text/html": [
       "<div>\n",
       "<style scoped>\n",
       "    .dataframe tbody tr th:only-of-type {\n",
       "        vertical-align: middle;\n",
       "    }\n",
       "\n",
       "    .dataframe tbody tr th {\n",
       "        vertical-align: top;\n",
       "    }\n",
       "\n",
       "    .dataframe thead th {\n",
       "        text-align: right;\n",
       "    }\n",
       "</style>\n",
       "<table border=\"1\" class=\"dataframe\">\n",
       "  <thead>\n",
       "    <tr style=\"text-align: right;\">\n",
       "      <th></th>\n",
       "      <th>assembly_name</th>\n",
       "      <th>ConeSurfaceType</th>\n",
       "      <th>CylinderSurfaceType</th>\n",
       "      <th>EllipticalConeSurfaceType</th>\n",
       "      <th>EllipticalCylinderSurfaceType</th>\n",
       "      <th>NurbsSurfaceType</th>\n",
       "      <th>PlaneSurfaceType</th>\n",
       "      <th>SphereSurfaceType</th>\n",
       "      <th>TorusSurfaceType</th>\n",
       "      <th>xx</th>\n",
       "      <th>...</th>\n",
       "      <th>2038</th>\n",
       "      <th>2039</th>\n",
       "      <th>2040</th>\n",
       "      <th>2041</th>\n",
       "      <th>2042</th>\n",
       "      <th>2043</th>\n",
       "      <th>2044</th>\n",
       "      <th>2045</th>\n",
       "      <th>2046</th>\n",
       "      <th>2047</th>\n",
       "    </tr>\n",
       "  </thead>\n",
       "  <tbody>\n",
       "    <tr>\n",
       "      <th>0</th>\n",
       "      <td>22057_4947db57</td>\n",
       "      <td>4</td>\n",
       "      <td>13</td>\n",
       "      <td>0</td>\n",
       "      <td>0</td>\n",
       "      <td>84</td>\n",
       "      <td>22</td>\n",
       "      <td>0</td>\n",
       "      <td>22</td>\n",
       "      <td>9596.968393776323864585720002651214599609375</td>\n",
       "      <td>...</td>\n",
       "      <td>0.100315</td>\n",
       "      <td>0.765789</td>\n",
       "      <td>0.699494</td>\n",
       "      <td>0.014076</td>\n",
       "      <td>0.718475</td>\n",
       "      <td>0.169887</td>\n",
       "      <td>0.124306</td>\n",
       "      <td>0.046764</td>\n",
       "      <td>0.468679</td>\n",
       "      <td>0.098382</td>\n",
       "    </tr>\n",
       "    <tr>\n",
       "      <th>1</th>\n",
       "      <td>34103_6635d58e</td>\n",
       "      <td>14</td>\n",
       "      <td>59</td>\n",
       "      <td>0</td>\n",
       "      <td>0</td>\n",
       "      <td>9</td>\n",
       "      <td>66</td>\n",
       "      <td>0</td>\n",
       "      <td>1</td>\n",
       "      <td>1.89582513098834981590812276408541947603225708...</td>\n",
       "      <td>...</td>\n",
       "      <td>0.021017</td>\n",
       "      <td>0.000000</td>\n",
       "      <td>0.558243</td>\n",
       "      <td>0.079836</td>\n",
       "      <td>0.751304</td>\n",
       "      <td>0.009114</td>\n",
       "      <td>0.922297</td>\n",
       "      <td>0.020852</td>\n",
       "      <td>0.000000</td>\n",
       "      <td>0.794662</td>\n",
       "    </tr>\n",
       "    <tr>\n",
       "      <th>2</th>\n",
       "      <td>44400_388ed3d0</td>\n",
       "      <td>0</td>\n",
       "      <td>20</td>\n",
       "      <td>0</td>\n",
       "      <td>0</td>\n",
       "      <td>0</td>\n",
       "      <td>96</td>\n",
       "      <td>0</td>\n",
       "      <td>0</td>\n",
       "      <td>2936747.5552631602622568607330322265625</td>\n",
       "      <td>...</td>\n",
       "      <td>0.581119</td>\n",
       "      <td>0.000000</td>\n",
       "      <td>0.107407</td>\n",
       "      <td>0.043610</td>\n",
       "      <td>0.430167</td>\n",
       "      <td>0.481306</td>\n",
       "      <td>4.333909</td>\n",
       "      <td>0.742294</td>\n",
       "      <td>0.952765</td>\n",
       "      <td>1.397724</td>\n",
       "    </tr>\n",
       "  </tbody>\n",
       "</table>\n",
       "<p>3 rows × 2069 columns</p>\n",
       "</div>"
      ],
      "text/plain": [
       "    assembly_name  ConeSurfaceType  CylinderSurfaceType  \\\n",
       "0  22057_4947db57                4                   13   \n",
       "1  34103_6635d58e               14                   59   \n",
       "2  44400_388ed3d0                0                   20   \n",
       "\n",
       "   EllipticalConeSurfaceType  EllipticalCylinderSurfaceType  NurbsSurfaceType  \\\n",
       "0                          0                              0                84   \n",
       "1                          0                              0                 9   \n",
       "2                          0                              0                 0   \n",
       "\n",
       "   PlaneSurfaceType  SphereSurfaceType  TorusSurfaceType  \\\n",
       "0                22                  0                22   \n",
       "1                66                  0                 1   \n",
       "2                96                  0                 0   \n",
       "\n",
       "                                                  xx  ...      2038      2039  \\\n",
       "0       9596.968393776323864585720002651214599609375  ...  0.100315  0.765789   \n",
       "1  1.89582513098834981590812276408541947603225708...  ...  0.021017  0.000000   \n",
       "2            2936747.5552631602622568607330322265625  ...  0.581119  0.000000   \n",
       "\n",
       "       2040      2041      2042      2043      2044      2045      2046  \\\n",
       "0  0.699494  0.014076  0.718475  0.169887  0.124306  0.046764  0.468679   \n",
       "1  0.558243  0.079836  0.751304  0.009114  0.922297  0.020852  0.000000   \n",
       "2  0.107407  0.043610  0.430167  0.481306  4.333909  0.742294  0.952765   \n",
       "\n",
       "       2047  \n",
       "0  0.098382  \n",
       "1  0.794662  \n",
       "2  1.397724  \n",
       "\n",
       "[3 rows x 2069 columns]"
      ]
     },
     "execution_count": 15,
     "metadata": {},
     "output_type": "execute_result"
    }
   ],
   "source": [
    "val"
   ]
  },
  {
   "cell_type": "code",
   "execution_count": null,
   "id": "069574ff",
   "metadata": {},
   "outputs": [],
   "source": []
  }
 ],
 "metadata": {
  "kernelspec": {
   "display_name": "pytorch-env",
   "language": "python",
   "name": "pytorch-env"
  },
  "language_info": {
   "codemirror_mode": {
    "name": "ipython",
    "version": 3
   },
   "file_extension": ".py",
   "mimetype": "text/x-python",
   "name": "python",
   "nbconvert_exporter": "python",
   "pygments_lexer": "ipython3",
   "version": "3.8.0"
  }
 },
 "nbformat": 4,
 "nbformat_minor": 5
}
